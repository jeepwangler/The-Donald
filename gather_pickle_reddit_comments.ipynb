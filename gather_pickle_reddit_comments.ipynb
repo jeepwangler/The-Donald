{
 "cells": [
  {
   "cell_type": "code",
   "execution_count": 32,
   "metadata": {},
   "outputs": [],
   "source": [
    "import pickle\n",
    "import pandas as pd\n",
    "import praw\n",
    "import pprint\n",
    "from reddit_api_info import ra_dict\n",
    "from praw.models import MoreComments"
   ]
  },
  {
   "cell_type": "code",
   "execution_count": 33,
   "metadata": {},
   "outputs": [],
   "source": [
    "reddit = praw.Reddit(client_id=ra_dict['client_id'],\n",
    "                     client_secret=ra_dict['client_secret'],\n",
    "                     user_agent=ra_dict['user_agent'],\n",
    "                     username=ra_dict['username'],\n",
    "                     password=ra_dict['password']\n",
    "                    )      "
   ]
  },
  {
   "cell_type": "code",
   "execution_count": 34,
   "metadata": {},
   "outputs": [],
   "source": [
    "subreddit_list = ['the_mueller','the_donald']\n",
    "\n",
    "# ['bitcoin','btc','ethereum','ethtrader','cryptocurrency','dogecoin','eos','ripple']\n",
    "\n",
    "#'personalfinance','frugal','financialindependence','investing']\n",
    "                  \n",
    "#'nanocurrency','stellar','neo','dashpay']\n",
    "\n",
    "#['cryptocurrency', 'ethereum', 'bitcoin', 'btc', 'ethtrader'] #['the_mueller'] #,'politics'] #['the_donald'] #,\n",
    "#donald = reddit.subreddit('the_donald')\n",
    "#mueller = reddit.subreddit('the_mueller')\n",
    "\n",
    "\n",
    "d = {\"subreddit\":[],\n",
    "     \"title\":[],\n",
    "     \"comments\":[]\n",
    "    }\n"
   ]
  },
  {
   "cell_type": "code",
   "execution_count": 35,
   "metadata": {},
   "outputs": [
    {
     "name": "stdout",
     "output_type": "stream",
     "text": [
      "the_mueller\n",
      "the_donald\n"
     ]
    }
   ],
   "source": [
    "for subreddit_name in subreddit_list:\n",
    "    print(subreddit_name)\n",
    "    subreddit = reddit.subreddit(subreddit_name)\n",
    "    for submission in subreddit.top(limit=100):\n",
    "        d[\"subreddit\"].append(subreddit)\n",
    "        d[\"title\"].append(submission.title)\n",
    "        #d[\"score\"].append(submission.score)\n",
    "        #d[\"id\"].append(submission.id)\n",
    "        #d[\"url\"].append(submission.url)\n",
    "        #d[\"comms_num\"].append(submission.num_comments)\n",
    "        #d[\"created\"].append(submission.created)\n",
    "        #d[\"body\"].append(submission.selftext)\n",
    "        submission.comments.replace_more(limit=1)\n",
    "        d[\"comments\"].append(submission.comments)"
   ]
  },
  {
   "cell_type": "code",
   "execution_count": 36,
   "metadata": {},
   "outputs": [],
   "source": [
    "comments_list = []\n",
    "\n",
    "for i, forest in enumerate(d['comments']):\n",
    "    subreddit = str(d['subreddit'][i])\n",
    "    for comment in forest.list():\n",
    "        comments_list.append([subreddit,comment.body])\n"
   ]
  },
  {
   "cell_type": "code",
   "execution_count": 37,
   "metadata": {},
   "outputs": [],
   "source": [
    "pickle.dump(comments_list, open('donald_mueller_1.pkl', 'wb'))"
   ]
  },
  {
   "cell_type": "code",
   "execution_count": null,
   "metadata": {},
   "outputs": [],
   "source": []
  },
  {
   "cell_type": "code",
   "execution_count": null,
   "metadata": {},
   "outputs": [],
   "source": []
  }
 ],
 "metadata": {
  "kernelspec": {
   "display_name": "Python 3",
   "language": "python",
   "name": "python3"
  },
  "language_info": {
   "codemirror_mode": {
    "name": "ipython",
    "version": 3
   },
   "file_extension": ".py",
   "mimetype": "text/x-python",
   "name": "python",
   "nbconvert_exporter": "python",
   "pygments_lexer": "ipython3",
   "version": "3.6.8"
  }
 },
 "nbformat": 4,
 "nbformat_minor": 2
}
